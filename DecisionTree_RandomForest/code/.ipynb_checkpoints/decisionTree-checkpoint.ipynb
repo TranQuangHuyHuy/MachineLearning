{
 "cells": [
  {
   "cell_type": "code",
   "execution_count": 1,
   "id": "7f353c80-3b2c-452c-9ea4-d3c7c6dde8e4",
   "metadata": {},
   "outputs": [],
   "source": [
    "# hàm chia node thành 2 node con dựa trên ngưỡng\n",
    "def split_node(column, threshold_split):  # column là series\n",
    "    left_node = column[column <= threshold_split].index  # index của các phần tử nhỏ hơn hoặc bằng ngưỡng\n",
    "    right_node = column[column > threshold_split].index  # index của các phần tử lớn hơn ngưỡng\n",
    "    return left_node, right_node # chứa giá trị index"
   ]
  },
  {
   "cell_type": "code",
   "execution_count": 2,
   "id": "77a213fd-464e-4493-83c9-8d9903fadbdd",
   "metadata": {},
   "outputs": [],
   "source": [
    "# hàm tính entropy\n",
    "def entropy(y_target):  # y_target là dạng series\n",
    "    values, counts = np.unique(y_target, return_counts = True) # biến values chưa được dùng\n",
    "    result = -np.sum([(count / len(y_target)) * np.log2(count / len(y_target)) for count in counts])\n",
    "    return result  # kết quả là một số"
   ]
  },
  {
   "cell_type": "code",
   "execution_count": 10,
   "id": "a74e2f95-f1eb-4b7d-96b2-d9ab6fefcb35",
   "metadata": {},
   "outputs": [],
   "source": [
    "# hàm tính information gain\n",
    "def info_gain(column, target, threshold_split):  # column, target là series, threshold_split là một số\n",
    "    entropy_start = entropy(target)  # entropy ban đầu\n",
    "\n",
    "    left_node, right_node = split_node(column, threshold_split)  # chia dữ liệu thành 2 node con\n",
    "\n",
    "    n_target = len(target)  # số lượng mẫu trong target\n",
    "    n_left = len(left_node)  # số lượng mẫu ở node trái\n",
    "    n_right = len(right_node)  # số lượng mẫu ở node phải\n",
    "\n",
    "    # tính entropy cho các node con\n",
    "    entropy_left = entropy(target[left_node])  # target[left_node] là series\n",
    "    entropy_right = entropy(target[right_node]) # target[right_node] là series\n",
    "\n",
    "    # Tính tổng entropy của các node con\n",
    "    weight_entropy = (n_left/n_target)*entropy_left + (n_right/n_target)*entropy_right\n",
    "\n",
    "    # Tính Information Gain\n",
    "    ig = entropy_start - weight_entropy\n",
    "    return ig"
   ]
  },
  {
   "cell_type": "code",
   "execution_count": 4,
   "id": "87a84be2-dab7-4bf6-acf3-188640130be8",
   "metadata": {},
   "outputs": [],
   "source": [
    "# hàm tìm feature và threshold tốt nhất để chia\n",
    "def best_split(dataX, target, feature_id):  # dataX dạng DataFrame, target dạng series\n",
    "    best_ig = -1  # khởi tạo ig tốt nhất là trừ vô cùng hoặc một con số nhỏ hơn 0 là được\n",
    "    best_feature = None # best_feature, best_threshold không cần so sánh nên ta gán giá trị là None\n",
    "    best_threshold = None\n",
    "    for _id in feature_id:\n",
    "        column = dataX.iloc[:, _id] # dạng series\n",
    "        thresholds = set(column)\n",
    "        for threshold in thresholds:  # duyệt qua từng giá trị threshold\n",
    "            ig = info_gain(column, target, threshold) # threshold là một con số\n",
    "            if ig > best_ig: # xét điều kiện nếu ig tính ra lớn hơn best_ig thì \n",
    "                best_ig = ig # gán best_ig bằng ig\n",
    "                best_feature = dataX.columns[_id] # gán best feature\n",
    "                best_threshold = threshold # gán lại ngưỡng\n",
    "    return best_feature, best_threshold  # trả về feature và threshold tốt nhất"
   ]
  },
  {
   "cell_type": "code",
   "execution_count": 5,
   "id": "32098b59-7216-492f-8ca0-0a413214753d",
   "metadata": {},
   "outputs": [],
   "source": [
    "# hàm lấy giá trị xuất hiện nhiều nhất trong node lá\n",
    "def most_value(y_target):  # y_target là series\n",
    "    value = y_target.value_counts().idxmax()  # giá trị xuất hiện nhiều nhất\n",
    "    return value # trả lại giá trị của node lá"
   ]
  },
  {
   "cell_type": "code",
   "execution_count": 6,
   "id": "c18704e8-7b67-496d-8806-a922a1dc8064",
   "metadata": {},
   "outputs": [],
   "source": [
    "# lớp Node đại diện cho từng node trong cây\n",
    "class Node:\n",
    "    def __init__(self, feature = None, threshold = None, left = None, right = None, *, value = None): # những tham số sau '*' cần khai báo rõ tên đối số\n",
    "        self.feature = feature  # feature để chia node\n",
    "        self.threshold = threshold  # ngưỡng để chia node\n",
    "        self.left = left  # node con bên trái\n",
    "        self.right = right  # node con bên phải\n",
    "        self.value = value  # giá trị của node nếu là node lá\n",
    "\n",
    "    def is_leaf_node(self): # hàm kiểm tra có phải là node lá hay không\n",
    "        return self.value is not None  # nếu có value, tức là node lá"
   ]
  },
  {
   "cell_type": "code",
   "execution_count": 7,
   "id": "f774d89c-ea5b-42bf-a6df-4e6791b8b78a",
   "metadata": {},
   "outputs": [],
   "source": [
    "# lớp Decision Tree Classification\n",
    "class DecisionTreeClass:\n",
    "    def __init__(self, min_samples_split = 2, max_depth = 10, n_features = None):\n",
    "        self.min_samples_split = min_samples_split  # số lượng mẫu tối thiểu để chia một nút\n",
    "        self.max_depth = max_depth  # độ sâu tối đa của cây\n",
    "        self.root = None  # node gốc của cây\n",
    "        self.n_features = n_features # số cột cần lấy để tạo cây\n",
    "    def grow_tree(self, X, y, depth = 0):  # X là frame, y là series\n",
    "        n_samples, n_feats = X.shape  # số lượng mẫu và số lượng đặc trưng\n",
    "        n_classes = len(np.unique(y))  # số lượng lớp phân loại khác nhau\n",
    "\n",
    "        # Điều kiện dừng: nếu đạt độ sâu tối đa hoặc không thể chia thêm (số lớp trong node bằng 1 hoặc số mẫu trong node nhỏ hơn số lượng mẫu tối thiểu)\n",
    "        if depth >= self.max_depth or n_classes == 1 or n_samples < self.min_samples_split:\n",
    "            leaf_value = most_value(y)\n",
    "            return Node(value = leaf_value) # lúc này node có value khác None nên đây là node lá\n",
    "            \n",
    "        # lấy số cột ngẫu nhiên khi tham số n_features khác None\n",
    "        feature_id = np.random.choice(n_feats, self.n_features, replace = False)\n",
    "        \n",
    "        # tìm feature và threshold tốt nhất để chia\n",
    "        best_feature, best_threshold = best_split(X, y, feature_id)\n",
    "\n",
    "        # tách node thành node trái và phải\n",
    "        left_node, right_node = split_node(X[best_feature], best_threshold)\n",
    "\n",
    "        # dùng đệ quy để xây dựng cây con\n",
    "        # phải sử dụng loc, không sử dụng iloc vì lúc này index là label\n",
    "        # các bạn phải hiểu sự khác biệt giữa iloc và loc\n",
    "        left = self.grow_tree(X.loc[left_node], y.loc[left_node], depth + 1) \n",
    "        right = self.grow_tree(X.loc[right_node], y.loc[right_node], depth + 1) \n",
    "\n",
    "        # trả về node hiện tại với thông tin chia và 2 node con\n",
    "        return Node(best_feature, best_threshold, left, right)\n",
    "\n",
    "    def fit(self, X, y):  # X là frame, y là series\n",
    "        # nếu n_features là None, tức nghĩa là người dùng không truyền giá trị vào thì lấy tất cả các feature đang có\n",
    "        # ngược lại, nếu người dùng truyền vào giá trị thì lấy số cột(giá trị) người dùng truyền vào\n",
    "        self.n_features = X.shape[1] if self.n_features is None else min(X.shape[1], self.n_features)\n",
    "        self.root = self.grow_tree(X, y)  # gọi hàm xây dựng cây\n",
    "\n",
    "    def traverse_tree(self, x, node):  # hàm duyệt cây để dự đoán, x là series\n",
    "        # ý tưởng của nó là duyệt đến khi tìm được nút lá bằng cách gọi đệ quy\n",
    "        if node.is_leaf_node():\n",
    "            return node.value\n",
    "\n",
    "        if x[node.feature] <= node.threshold:\n",
    "            return self.traverse_tree(x, node.left)\n",
    "        return self.traverse_tree(x, node.right)\n",
    "    \n",
    "    def predict(self, X):  # hàm dự đoán cho tất cả mẫu trong X, lấy từng dòng trong X để duyệt\n",
    "        return np.array([self.traverse_tree(x, self.root) for index, x in X.iterrows()]) # index không sử dụng, x là dạng Series"
   ]
  },
  {
   "cell_type": "code",
   "execution_count": 11,
   "id": "d5d8a2ad-d7ab-4347-8676-951a03a7f04c",
   "metadata": {},
   "outputs": [],
   "source": [
    "# hàm vẽ cây \n",
    "def print_tree(node, indent = \"\"):\n",
    "    # nếu node là node lá, in ra giá trị của nó\n",
    "    if node.is_leaf_node():\n",
    "        print(f\"{indent}Leaf: {node.value}\")\n",
    "        return\n",
    "    \n",
    "    # in ra node hiện tại với feature và threshold\n",
    "    print(f\"{indent}Node: If {node.feature} <= {node.threshold:.2f}\")\n",
    "\n",
    "    # in ra cây con bên trái (đúng)\n",
    "    print(f\"{indent}  True:\")\n",
    "    print_tree(node.left, indent + \"    \")\n",
    "\n",
    "    # in ra cây con bên phải (sai)\n",
    "    print(f\"{indent}  False:\")\n",
    "    print_tree(node.right, indent + \"    \")"
   ]
  },
  {
   "cell_type": "code",
   "execution_count": 12,
   "id": "1a0690fa-d1ef-4860-92ec-8087bec7d3bc",
   "metadata": {},
   "outputs": [],
   "source": [
    "# hàm tính độ chính xác\n",
    "def accuracy(y_actual, y_pred): # hai này ở dạng mảng\n",
    "    acc = np.sum(y_actual == y_pred)/len(y_true)\n",
    "    return acc*100"
   ]
  },
  {
   "cell_type": "code",
   "execution_count": null,
   "id": "5ff07271-f1db-47dd-b733-97c4c730659c",
   "metadata": {},
   "outputs": [],
   "source": []
  }
 ],
 "metadata": {
  "kernelspec": {
   "display_name": "Python 3 (ipykernel)",
   "language": "python",
   "name": "python3"
  },
  "language_info": {
   "codemirror_mode": {
    "name": "ipython",
    "version": 3
   },
   "file_extension": ".py",
   "mimetype": "text/x-python",
   "name": "python",
   "nbconvert_exporter": "python",
   "pygments_lexer": "ipython3",
   "version": "3.12.4"
  }
 },
 "nbformat": 4,
 "nbformat_minor": 5
}
