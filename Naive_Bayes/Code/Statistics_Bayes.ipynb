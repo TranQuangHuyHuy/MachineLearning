{
 "cells": [
  {
   "cell_type": "markdown",
   "id": "beb83bee-90b9-453a-b548-ee4526f3a7af",
   "metadata": {},
   "source": [
    "# Thống kê Bayes"
   ]
  },
  {
   "cell_type": "markdown",
   "id": "3f7dff82-b91d-4b58-81dd-4c46bfa19c22",
   "metadata": {},
   "source": [
    "- Hiểu về Xác suất có điều kiện\n",
    "- công thức nhân xác suất\n",
    "- Công thức Bayes."
   ]
  },
  {
   "cell_type": "markdown",
   "id": "4dcd87ab-ca6d-4e98-9d5f-c70a83b1cee7",
   "metadata": {},
   "source": [
    "### Xác suất có điều kiện và công thức nhân xác suất:\n",
    "- Xác suất có điều kiện:\n",
    "$$ P(A|B) = \\frac{P(A \\cdot B)}{P(B)} \\Rightarrow P(A \\cdot B) = P(A|B) \\cdot P(B) $$\n",
    "- Công thức nhân xác suất:\n",
    "  - Khi A, B độc lập thì P(A|B) = P(A) nên xác suất có điều kiện trở thành công thức nhân xác suất:\n",
    "    $$ P(A \\cdot B) = P(A) \\cdot P(B) $$\n",
    "  - Lưu ý: Giả sử ta có $A_{1}, A_{2}$ độc lập thì:\n",
    "    $$ P(A_{1}, A_{2} | B) = P(A_{1}|B) \\cdot P(A_{2}|B)$$\n"
   ]
  },
  {
   "cell_type": "markdown",
   "id": "0fe1d01d-5fad-4bd5-b33a-2cee4255f354",
   "metadata": {},
   "source": [
    "### Công thức Bayes:"
   ]
  },
  {
   "cell_type": "markdown",
   "id": "089e0ab6-5f42-473f-9701-a9b6e715f50f",
   "metadata": {},
   "source": [
    "$$ P(A_{i}|B) = \\frac{P(A_{i}) \\cdot P(B|A_{i})}{P(B)} $$\n",
    "- Nhận xét: P(B) không phụ thuộc vào $A_{i}$ nên $$ P(A_{i}|B) \\propto P(A_{i}) \\cdot P(B|A_{i}) \\approx  $$"
   ]
  },
  {
   "cell_type": "markdown",
   "id": "a021ecb9-5363-4d18-aac3-cccde32cd880",
   "metadata": {},
   "source": [
    "### Thuật toán Naive Bayes: Phân phối Gaussian, phân phối Bernoulli, phân phối Multinomial\n",
    "1. Phân phối Gaussian:\n",
    "- "
   ]
  },
  {
   "cell_type": "code",
   "execution_count": null,
   "id": "34b3b646-2e75-4467-bcb4-365da014e35a",
   "metadata": {},
   "outputs": [],
   "source": []
  }
 ],
 "metadata": {
  "kernelspec": {
   "display_name": "Python 3 (ipykernel)",
   "language": "python",
   "name": "python3"
  },
  "language_info": {
   "codemirror_mode": {
    "name": "ipython",
    "version": 3
   },
   "file_extension": ".py",
   "mimetype": "text/x-python",
   "name": "python",
   "nbconvert_exporter": "python",
   "pygments_lexer": "ipython3",
   "version": "3.12.4"
  }
 },
 "nbformat": 4,
 "nbformat_minor": 5
}
