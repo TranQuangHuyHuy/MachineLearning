{
 "cells": [
  {
   "cell_type": "code",
   "execution_count": 15,
   "id": "dc082b7a-2dee-4de6-ba69-296a8d826472",
   "metadata": {},
   "outputs": [],
   "source": [
    "import pandas as pd\n",
    "from sklearn.model_selection import train_test_split\n",
    "from sklearn.feature_extraction.text import TfidfVectorizer\n",
    "from sklearn.neighbors import KNeighborsClassifier\n",
    "from sklearn.metrics import classification_report\n",
    "\n",
    "# Giả sử bạn đã có dữ liệu (dưới dạng pandas DataFrame)\n",
    "df = pd.read_csv('Sports.csv')\n",
    "# Chia dữ liệu thành train và test\n",
    "X_train, X_test, y_train, y_test = train_test_split(df['Text'], df['Label'], test_size=0.15, random_state=42)\n"
   ]
  },
  {
   "cell_type": "code",
   "execution_count": 16,
   "id": "cce84250-a042-43e0-9e60-eefbc961186e",
   "metadata": {},
   "outputs": [],
   "source": [
    "# Sử dụng TF-IDF để chuyển đổi văn bản thành các vectơ số\n",
    "vectorizer = TfidfVectorizer()\n",
    "X_train_tfidf = vectorizer.fit_transform(X_train)\n",
    "X_test_tfidf = vectorizer.transform(X_test)\n"
   ]
  },
  {
   "cell_type": "code",
   "execution_count": 17,
   "id": "df4ef830-cd0a-45ef-bb06-d44c35d9703d",
   "metadata": {},
   "outputs": [],
   "source": [
    "# Áp dụng thuật toán KNeighborsClassifier với khoảng cách cosine\n",
    "knn = KNeighborsClassifier(n_neighbors=3, metric='cosine')\n",
    "\n",
    "# Huấn luyện mô hình\n",
    "knn.fit(X_train_tfidf, y_train)\n",
    "\n",
    "# Dự đoán nhãn trên tập kiểm tra\n",
    "y_pred = knn.predict(X_test_tfidf)\n"
   ]
  },
  {
   "cell_type": "code",
   "execution_count": 18,
   "id": "8206f9e8-de41-4d2b-9da4-db31fe078705",
   "metadata": {},
   "outputs": [
    {
     "data": {
      "text/plain": [
       "array(['negative', 'positive', 'negative', 'negative', 'negative',\n",
       "       'negative', 'negative', 'negative', 'negative'], dtype=object)"
      ]
     },
     "execution_count": 18,
     "metadata": {},
     "output_type": "execute_result"
    }
   ],
   "source": [
    "y_pred"
   ]
  },
  {
   "cell_type": "code",
   "execution_count": 19,
   "id": "688d35ec-88fc-4852-af78-41a40fa8d5d1",
   "metadata": {},
   "outputs": [
    {
     "data": {
      "text/plain": [
       "1    positive\n",
       "2    positive\n",
       "3    negative\n",
       "4    negative\n",
       "5    positive\n",
       "6    negative\n",
       "7    positive\n",
       "8    negative\n",
       "9    negative\n",
       "Name: Label, dtype: object"
      ]
     },
     "execution_count": 19,
     "metadata": {},
     "output_type": "execute_result"
    }
   ],
   "source": [
    "y_test.index = range(1, len(y_test) + 1)\n",
    "y_test   # sai: ."
   ]
  },
  {
   "cell_type": "code",
   "execution_count": null,
   "id": "6e362532-07f1-406d-9cdc-c5dbf796fdc1",
   "metadata": {},
   "outputs": [],
   "source": []
  }
 ],
 "metadata": {
  "kernelspec": {
   "display_name": "Python 3 (ipykernel)",
   "language": "python",
   "name": "python3"
  },
  "language_info": {
   "codemirror_mode": {
    "name": "ipython",
    "version": 3
   },
   "file_extension": ".py",
   "mimetype": "text/x-python",
   "name": "python",
   "nbconvert_exporter": "python",
   "pygments_lexer": "ipython3",
   "version": "3.12.4"
  }
 },
 "nbformat": 4,
 "nbformat_minor": 5
}
