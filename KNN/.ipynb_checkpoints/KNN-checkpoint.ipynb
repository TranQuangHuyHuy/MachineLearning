{
 "cells": [
  {
   "cell_type": "markdown",
   "id": "fbd6ef72-429d-400b-9a83-f0ffbacb7675",
   "metadata": {},
   "source": [
    "## K - Nearest Neighbors"
   ]
  },
  {
   "cell_type": "markdown",
   "id": "12d7bc8c-1823-475b-a29a-d997eaa3b53a",
   "metadata": {},
   "source": [
    "### Ý tưởng:"
   ]
  },
  {
   "cell_type": "markdown",
   "id": "fe75be7f-95f3-413a-a9bb-81209bfccc00",
   "metadata": {},
   "source": [
    "#### Cho ví dụ:\n",
    "- Tục ngữ\n",
    "- Thực tế \\\n",
    "---> Dẫn ra khoảng cách."
   ]
  },
  {
   "cell_type": "markdown",
   "id": "b18e0ced-9293-47a6-a74d-c57033f7c3d0",
   "metadata": {},
   "source": [
    "#### Liệt kê khoảng cách: \n",
    "LÝ THUYẾT\n",
    "- Euclidean\n",
    "- Manhattan\n",
    "- Cousine \\\n",
    "--> Khái niệm, công thức, Ưu/ nhược điểm và khi nào sử dụng."
   ]
  },
  {
   "cell_type": "markdown",
   "id": "cec93e57-9ee4-4df8-b5cf-817d190011d5",
   "metadata": {},
   "source": [
    "#### Lấy ví dụ cho từng khoảng cách:\n",
    "- Euclidean: phân loại thuốc cho bệnh nhân\n",
    "- Manhattan: \n",
    "- Cousine: phân loại bình luận tích cực hay tiêu cực.\n",
    "- Weighted k-NN:"
   ]
  },
  {
   "cell_type": "markdown",
   "id": "330e2241-e973-4f36-b6ec-b51512684fbb",
   "metadata": {},
   "source": [
    "#### Chọn K:\n",
    "- Tip: Thường thì cho k chạy từ $ k = 3 $ đến $ k = \\frac{\\sqrt n}{2} $ ."
   ]
  },
  {
   "cell_type": "markdown",
   "id": "9b086365-e07c-4186-beae-f6e229df017c",
   "metadata": {},
   "source": [
    "#### Ưu/ nhược điểm của k-NN:"
   ]
  },
  {
   "cell_type": "markdown",
   "id": "987edc8e-ab75-4d23-b5b9-bce37f5f887a",
   "metadata": {},
   "source": [
    "### Regressor:\n",
    "- mean của k\n",
    "- tự code thì có thể lấy min, max, phân vị,..."
   ]
  },
  {
   "cell_type": "markdown",
   "id": "bb4b4677-593b-4d31-a6fe-07ff1223e8fe",
   "metadata": {},
   "source": [
    "## Centroid Base Classifier:"
   ]
  },
  {
   "cell_type": "markdown",
   "id": "9ca95296-adc7-4547-a8be-8dfcf39264a3",
   "metadata": {},
   "source": [
    "#### Ý tưởng: \n",
    "- trung bình --> khoảng cách "
   ]
  },
  {
   "cell_type": "markdown",
   "id": "48a04048-3d09-4c91-9fa9-90c93d5da4a0",
   "metadata": {},
   "source": [
    "#### Công thức:"
   ]
  },
  {
   "cell_type": "markdown",
   "id": "11723400-658d-4868-8a93-77fe5bb30dd1",
   "metadata": {},
   "source": [
    "#### Lấy ví dụ: \n",
    "- Lấy lại ví dụ phân loại thuốc cho bệnh nhân --> lý thuyết"
   ]
  },
  {
   "cell_type": "markdown",
   "id": "73b9d0f0-c382-422a-ac5a-b7149473e47e",
   "metadata": {},
   "source": [
    "#### Trả lời câu hỏi:\n",
    "- So sánh ưu/ nhược điểm của k-NN và Naive Bayes.\n",
    "- Khi thực hiện phân loại gặp phải tình trạng hoà thì chúng ta giải quyết vấn đề này như thế nào?."
   ]
  },
  {
   "cell_type": "markdown",
   "id": "d3f7f644-41b3-49c2-b216-a9e438b64534",
   "metadata": {},
   "source": [
    "### Bài tập phần k-NN:\n",
    "1. Bài tập phân loại thuốc:\n",
    "   - Bước 1: lấy dữ liệu\n",
    "   - Bước 2: tạo tập train/test\n",
    "   - Bước 3: code thuật toán\n",
    "   - Bước 4: đánh giá"
   ]
  },
  {
   "cell_type": "markdown",
   "id": "6a3a563e-b804-4d56-a69e-054a63d5a0aa",
   "metadata": {},
   "source": [
    "-  Nếu dữ liệu ít quá thì ta dùng GridCV hoặc RandomCV."
   ]
  },
  {
   "cell_type": "code",
   "execution_count": 1,
   "id": "2789a4a6-0b73-45bd-94ff-c592dc79f4ed",
   "metadata": {},
   "outputs": [],
   "source": [
    "### Bài tập nhận xét văn bản là tích cực hay tiêu cực."
   ]
  },
  {
   "cell_type": "code",
   "execution_count": null,
   "id": "75152798-9685-4f4c-ade8-12a477376c0e",
   "metadata": {},
   "outputs": [],
   "source": [
    "# "
   ]
  }
 ],
 "metadata": {
  "kernelspec": {
   "display_name": "Python 3 (ipykernel)",
   "language": "python",
   "name": "python3"
  },
  "language_info": {
   "codemirror_mode": {
    "name": "ipython",
    "version": 3
   },
   "file_extension": ".py",
   "mimetype": "text/x-python",
   "name": "python",
   "nbconvert_exporter": "python",
   "pygments_lexer": "ipython3",
   "version": "3.12.4"
  }
 },
 "nbformat": 4,
 "nbformat_minor": 5
}
